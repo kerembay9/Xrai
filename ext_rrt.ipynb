{
 "cells": [
  {
   "cell_type": "markdown",
   "id": "48bcf763",
   "metadata": {},
   "source": [
    "# Extension - RRT: basic finding example\n",
    "* Path finding is using sample-based (RRT) methods rather than constrained optimization to find a collision free path\n",
    "* Path finding is much easier if a final robot pose is given. We here use IK (formulated as KOMO problem) to first compute a final configuration 'qT'. (Path optimization does this jointly with optimizing the path.)\n",
    "* Then we can pass the current state and qT to a bi-directional RRT to find a collision free path.\n",
    "* Note that BotOp (the interface to sim/real) is opened only after we computed the motion. We simply pass the motion to be played by the sim/real."
   ]
  },
  {
   "cell_type": "code",
   "execution_count": 1,
   "id": "8e07bf36",
   "metadata": {},
   "outputs": [
    {
     "name": "stdout",
     "output_type": "stream",
     "text": [
      "Hello, World!\n"
     ]
    }
   ],
   "source": [
    "import robotic as ry\n",
    "import time\n",
    "ry.params_clear()\n",
    "ry.params_add({'rrt/stepsize':.1, 'rrt/verbose': 3}) #verbose=3 makes it very slow, and displays result, and verbose=4 waits keypress..\n",
    "\n",
    "rrt = ry.PathFinder()\n",
    "rrt.helloworld()"
   ]
  },
  {
   "cell_type": "code",
   "execution_count": null,
   "id": "a475722e",
   "metadata": {},
   "outputs": [],
   "source": [
    "# # Create a new configuration\n",
    "# C = ry.Config()\n",
    "\n",
    "# C.addFile(\"/home/monke/Xrai/maze.g\")\n",
    "\n",
    "# # Add the moving \"ego\" frame with constraints on its motion\n",
    "# C.addFrame(\"ego\", \"floorwalls\") \\\n",
    "#     .setJoint(ry.JT.transXYPhi, [-1., 1., -1., 1., -3., 3.]) \\\n",
    "#     .setRelativePosition([0.2, 0.2, 0.4]) \\\n",
    "#     .setShape(ry.ST.ssBox, size=[0.05, 0.3, 0.05, 0.01]) \\\n",
    "#     .setColor([0, 1., 1.]) \\\n",
    "#     .setContact(1)\n",
    "\n",
    "# C.addFrame(\"goal1\") \\\n",
    "#     .setPosition(C.getFrame('ego').getPosition()+[0, -3, 0]) \\\n",
    "#     .setShape(ry.ST.ssBox, size=[0.05, 0.3, 0.05, 0.01]) \\\n",
    "#     .setColor([1, 0, 0]) \\\n",
    "\n",
    "# C.addFrame(\"goal2\") \\\n",
    "#     .setPosition(C.getFrame('goal1').getPosition()+[4, 0, 0]) \\\n",
    "#     .setShape(ry.ST.ssBox, size=[0.05, 0.3, 0.05, 0.01]) \\\n",
    "#     .setColor([1, 0, 0]) \\\n",
    "\n",
    "# C.view()\n",
    "# q0 = [0.2, 0.2, 0.4]\n",
    "# qT = C.getFrame('goal1').getPosition()\n",
    "\n",
    "# ry.params_clear()\n",
    "# ry.params_add({'rrt/stepsize':.1, 'rrt/verbose': 0,'rrt/maxIters':500}) #verbose=3 makes it very slow, and displays result, and verbose=4 waits keypress..\n",
    "\n",
    "# rrt = ry.PathFinder()\n",
    "# rrt.setProblem(C, [q0], [qT])\n",
    "# ret = rrt.solve()\n",
    "# print(ret)\n",
    "# path = ret.x\n",
    "\n",
    "# # Visualize the solution path\n",
    "# if ret.feasible:\n",
    "#     for i in range(len(path)):\n",
    "#         C.addFrame(f\"path_{i}\").setPosition(path[i]).setShape(ry.ST.sphere, [0.02])  # Add a sphere at each path point\n",
    "#         C.view()\n",
    "# else:\n",
    "#     print(\"No valid path found.\")"
   ]
  },
  {
   "cell_type": "code",
   "execution_count": null,
   "id": "4dc25185",
   "metadata": {},
   "outputs": [
    {
     "name": "stdout",
     "output_type": "stream",
     "text": [
      "{ time: 0.003767, evals: 89, done: 1, feasible: 1, eq: -1, ineq: -1, sos: -1, f: -1 }\n",
      "{ time: 0.010019, evals: 171, done: 1, feasible: 1, eq: -1, ineq: -1, sos: -1, f: -1 }\n"
     ]
    }
   ],
   "source": [
    "# Create a new configuration\n",
    "C = ry.Config()\n",
    "\n",
    "C.addFile(\"/home/monke/Xrai/maze.g\")\n",
    "\n",
    "# Add the moving \"ego\" frame with constraints on its motion\n",
    "C.addFrame(\"ego\", \"floorwalls\") \\\n",
    "    .setJoint(ry.JT.transXYPhi, [-1., 1., -1., 1., -3., 3.]) \\\n",
    "    .setRelativePosition([0.2, 0.2, 0.4]) \\\n",
    "    .setShape(ry.ST.ssBox, size=[0.05, 0.3, 0.05, 0.01]) \\\n",
    "    .setColor([0, 1., 1.]) \\\n",
    "    .setContact(1)\n",
    "\n",
    "C.addFrame(\"goal1\") \\\n",
    "    .setPosition(C.getFrame('ego').getPosition()+[0, -3, 0]) \\\n",
    "    .setShape(ry.ST.ssBox, size=[0.05, 0.3, 0.05, 0.01]) \\\n",
    "    .setColor([1, 0, 0]) \\\n",
    "\n",
    "C.addFrame(\"goal2\") \\\n",
    "    .setPosition(C.getFrame('goal1').getPosition()+[4, 0, 0]) \\\n",
    "    .setShape(ry.ST.ssBox, size=[0.05, 0.3, 0.05, 0.01]) \\\n",
    "    .setColor([1, 0, 0]) \\\n",
    "\n",
    "# C.view()\n",
    "q0 = [0.2, 0.2, 0.4]\n",
    "qT = C.getFrame('goal1').getPosition()\n",
    "\n",
    "ry.params_clear()\n",
    "ry.params_add({'rrt/stepsize':.05, 'rrt/verbose': 0,'rrt/maxIters':170}) #verbose=3 makes it very slow, and displays result, and verbose=4 waits keypress..\n",
    "\n",
    "rrt = ry.PathFinder()\n",
    "rrt.setProblem(C, [q0], [qT])\n",
    "ret = rrt.solve()\n",
    "ret_star = rrt.star_solve()\n",
    "print(ret)\n",
    "path = ret.x\n",
    "star_path = ret_star.x\n",
    "print(ret_star)\n",
    "\n",
    "\n"
   ]
  },
  {
   "cell_type": "code",
   "execution_count": null,
   "id": "7bb86c6a",
   "metadata": {},
   "outputs": [
    {
     "ename": "KeyboardInterrupt",
     "evalue": "",
     "output_type": "error",
     "traceback": [
      "\u001b[0;31m---------------------------------------------------------------------------\u001b[0m",
      "\u001b[0;31mKeyboardInterrupt\u001b[0m                         Traceback (most recent call last)",
      "Cell \u001b[0;32mIn[19], line 30\u001b[0m\n\u001b[1;32m     28\u001b[0m     C\u001b[38;5;241m.\u001b[39mview()\n\u001b[1;32m     29\u001b[0m \u001b[38;5;28;01mfor\u001b[39;00m i \u001b[38;5;129;01min\u001b[39;00m \u001b[38;5;28mrange\u001b[39m(\u001b[38;5;28mlen\u001b[39m(star_path)):\n\u001b[0;32m---> 30\u001b[0m     \u001b[43mC\u001b[49m\u001b[38;5;241;43m.\u001b[39;49m\u001b[43maddFrame\u001b[49m\u001b[43m(\u001b[49m\u001b[38;5;124;43mf\u001b[39;49m\u001b[38;5;124;43m\"\u001b[39;49m\u001b[38;5;124;43mpath_\u001b[39;49m\u001b[38;5;132;43;01m{\u001b[39;49;00m\u001b[38;5;28;43mlen\u001b[39;49m\u001b[43m(\u001b[49m\u001b[43mpath\u001b[49m\u001b[43m)\u001b[49m\u001b[38;5;241;43m+\u001b[39;49m\u001b[43mi\u001b[49m\u001b[38;5;132;43;01m}\u001b[39;49;00m\u001b[38;5;124;43m\"\u001b[39;49m\u001b[43m)\u001b[49m\u001b[38;5;241;43m.\u001b[39;49m\u001b[43msetPosition\u001b[49m\u001b[43m(\u001b[49m\u001b[43mstar_path\u001b[49m\u001b[43m[\u001b[49m\u001b[43mi\u001b[49m\u001b[43m]\u001b[49m\u001b[43m)\u001b[49m\u001b[38;5;241;43m.\u001b[39;49m\u001b[43msetShape\u001b[49m\u001b[43m(\u001b[49m\u001b[43mry\u001b[49m\u001b[38;5;241;43m.\u001b[39;49m\u001b[43mST\u001b[49m\u001b[38;5;241;43m.\u001b[39;49m\u001b[43msphere\u001b[49m\u001b[43m,\u001b[49m\u001b[43m \u001b[49m\u001b[43m[\u001b[49m\u001b[38;5;241;43m0.02\u001b[39;49m\u001b[43m]\u001b[49m\u001b[43m)\u001b[49m\u001b[38;5;241;43m.\u001b[39;49m\u001b[43msetColor\u001b[49m\u001b[43m(\u001b[49m\u001b[43m[\u001b[49m\u001b[38;5;241;43m0\u001b[39;49m\u001b[43m,\u001b[49m\u001b[38;5;241;43m0\u001b[39;49m\u001b[43m,\u001b[49m\u001b[38;5;241;43m1\u001b[39;49m\u001b[43m]\u001b[49m\u001b[43m)\u001b[49m  \u001b[38;5;66;03m# Add a sphere at each path point\u001b[39;00m\n\u001b[1;32m     31\u001b[0m     C\u001b[38;5;241m.\u001b[39mview()\n",
      "\u001b[0;31mKeyboardInterrupt\u001b[0m: "
     ]
    }
   ],
   "source": [
    "# Create a new configuration\n",
    "C = ry.Config()\n",
    "\n",
    "C.addFile(\"/home/monke/Xrai/maze.g\")\n",
    "\n",
    "# Add the moving \"ego\" frame with constraints on its motion\n",
    "C.addFrame(\"ego\", \"floorwalls\") \\\n",
    "    .setJoint(ry.JT.transXYPhi, [-1., 1., -1., 1., -3., 3.]) \\\n",
    "    .setRelativePosition([0.2, 0.2, 0.4]) \\\n",
    "    .setShape(ry.ST.ssBox, size=[0.05, 0.3, 0.05, 0.01]) \\\n",
    "    .setColor([0, 1., 1.]) \\\n",
    "    .setContact(1)\n",
    "\n",
    "C.addFrame(\"goal1\") \\\n",
    "    .setPosition(C.getFrame('ego').getPosition()+[0, -3, 0]) \\\n",
    "    .setShape(ry.ST.ssBox, size=[0.05, 0.3, 0.05, 0.01]) \\\n",
    "    .setColor([1, 0, 0]) \\\n",
    "\n",
    "C.addFrame(\"goal2\") \\\n",
    "    .setPosition(C.getFrame('goal1').getPosition()+[4, 0, 0]) \\\n",
    "    .setShape(ry.ST.ssBox, size=[0.05, 0.3, 0.05, 0.01]) \\\n",
    "    .setColor([1, 0, 0]) \\\n",
    "\n",
    "C.view()\n",
    "# Visualize the solution path\n",
    "for i in range(len(path)):\n",
    "    C.addFrame(f\"path_{i}\").setPosition(path[i]).setShape(ry.ST.sphere, [0.02]).setColor([0,1,0])  # Add a sphere at each path point\n",
    "    if i%5 == 0:\n",
    "        C.view()\n",
    "for i in range(len(star_path)):\n",
    "    C.addFrame(f\"path_{len(path)+i}\").setPosition(star_path[i]).setShape(ry.ST.sphere, [0.02]).setColor([0,0,1])  # Add a sphere at each path point\n",
    "    if i%5 == 0:\n",
    "        C.view()"
   ]
  },
  {
   "cell_type": "code",
   "execution_count": null,
   "id": "1f2257ae",
   "metadata": {},
   "outputs": [],
   "source": [
    "# import json\n",
    "\n",
    "# C = ry.Config()\n",
    "\n",
    "# C.addFile(\"/home/monke/Xrai/maze.g\")\n",
    "\n",
    "# # Add the moving \"ego\" frame with constraints on its motion\n",
    "# C.addFrame(\"ego\", \"floorwalls\") \\\n",
    "#     .setJoint(ry.JT.transXYPhi, [-1., 1., -1., 1., -3., 3.]) \\\n",
    "#     .setRelativePosition([0.2, 0.2, 0.4]) \\\n",
    "#     .setShape(ry.ST.ssBox, size=[0.05, 0.3, 0.05, 0.01]) \\\n",
    "#     .setColor([0, 1., 1.]) \\\n",
    "#     .setContact(1)\n",
    "\n",
    "# C.addFrame(\"goal1\") \\\n",
    "#     .setPosition(C.getFrame('ego').getPosition()+[0, -3, 0]) \\\n",
    "#     .setShape(ry.ST.ssBox, size=[0.05, 0.3, 0.05, 0.01]) \\\n",
    "#     .setColor([1, 0, 0]) \\\n",
    "\n",
    "# C.addFrame(\"goal2\") \\\n",
    "#     .setPosition(C.getFrame('goal1').getPosition()+[4, 0, 0]) \\\n",
    "#     .setShape(ry.ST.ssBox, size=[0.05, 0.3, 0.05, 0.01]) \\\n",
    "#     .setColor([1, 0, 0]) \\\n",
    "\n",
    "# C.view()\n",
    "\n",
    "# with open('path_data.json', 'r') as f:\n",
    "#     path = json.load(f)\n",
    "# for i in range(len(path)):\n",
    "#     C.addFrame(f\"path_{i}\").setPosition(path[i]).setShape(ry.ST.sphere, [0.02])  # Add a sphere at each path point\n",
    "#     C.view()"
   ]
  }
 ],
 "metadata": {
  "kernelspec": {
   "display_name": "Python 3",
   "language": "python",
   "name": "python3"
  },
  "language_info": {
   "codemirror_mode": {
    "name": "ipython",
    "version": 3
   },
   "file_extension": ".py",
   "mimetype": "text/x-python",
   "name": "python",
   "nbconvert_exporter": "python",
   "pygments_lexer": "ipython3",
   "version": "3.8.10"
  }
 },
 "nbformat": 4,
 "nbformat_minor": 5
}
