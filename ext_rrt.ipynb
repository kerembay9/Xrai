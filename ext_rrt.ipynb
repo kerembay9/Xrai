{
 "cells": [
  {
   "cell_type": "markdown",
   "id": "48bcf763",
   "metadata": {},
   "source": [
    "# Extension - RRT: basic finding example\n",
    "* Path finding is using sample-based (RRT) methods rather than constrained optimization to find a collision free path\n",
    "* Path finding is much easier if a final robot pose is given. We here use IK (formulated as KOMO problem) to first compute a final configuration 'qT'. (Path optimization does this jointly with optimizing the path.)\n",
    "* Then we can pass the current state and qT to a bi-directional RRT to find a collision free path.\n",
    "* Note that BotOp (the interface to sim/real) is opened only after we computed the motion. We simply pass the motion to be played by the sim/real."
   ]
  },
  {
   "cell_type": "code",
   "execution_count": 1,
   "id": "8e07bf36",
   "metadata": {},
   "outputs": [
    {
     "name": "stdout",
     "output_type": "stream",
     "text": [
      "Hello, World!\n"
     ]
    }
   ],
   "source": [
    "import robotic as ry\n",
    "import time\n",
    "ry.params_clear()\n",
    "ry.params_add({'rrt/stepsize':.1, 'rrt/verbose': 3}) #verbose=3 makes it very slow, and displays result, and verbose=4 waits keypress..\n",
    "\n",
    "rrt = ry.PathFinder()\n",
    "rrt.helloworld()"
   ]
  },
  {
   "cell_type": "markdown",
   "id": "445a6a71",
   "metadata": {},
   "source": [
    "first a minimalistic example for testing:"
   ]
  },
  {
   "cell_type": "code",
   "execution_count": 2,
   "id": "a475722e",
   "metadata": {},
   "outputs": [],
   "source": [
    "# # Create a new configuration\n",
    "# C = ry.Config()\n",
    "\n",
    "# C.addFile(\"/home/monke/Xrai/maze.g\")\n",
    "\n",
    "# # Add the moving \"ego\" frame with constraints on its motion\n",
    "# C.addFrame(\"ego\", \"floorwalls\") \\\n",
    "#     .setJoint(ry.JT.transXYPhi, [-1., 1., -1., 1., -3., 3.]) \\\n",
    "#     .setRelativePosition([0.2, 0.2, 0.4]) \\\n",
    "#     .setShape(ry.ST.ssBox, size=[0.05, 0.3, 0.05, 0.01]) \\\n",
    "#     .setColor([0, 1., 1.]) \\\n",
    "#     .setContact(1)\n",
    "\n",
    "# C.addFrame(\"goal1\") \\\n",
    "#     .setPosition(C.getFrame('ego').getPosition()+[0, -3, 0]) \\\n",
    "#     .setShape(ry.ST.ssBox, size=[0.05, 0.3, 0.05, 0.01]) \\\n",
    "#     .setColor([1, 0, 0]) \\\n",
    "\n",
    "# C.addFrame(\"goal2\") \\\n",
    "#     .setPosition(C.getFrame('goal1').getPosition()+[4, 0, 0]) \\\n",
    "#     .setShape(ry.ST.ssBox, size=[0.05, 0.3, 0.05, 0.01]) \\\n",
    "#     .setColor([1, 0, 0]) \\\n",
    "\n",
    "# C.view()\n",
    "# q0 = [0.2, 0.2, 0.4]\n",
    "# qT = C.getFrame('goal1').getPosition()\n",
    "\n",
    "# ry.params_clear()\n",
    "# ry.params_add({'rrt/stepsize':.1, 'rrt/verbose': 0,'rrt/maxIters':500}) #verbose=3 makes it very slow, and displays result, and verbose=4 waits keypress..\n",
    "\n",
    "# rrt = ry.PathFinder()\n",
    "# rrt.setProblem(C, [q0], [qT])\n",
    "# ret = rrt.solve()\n",
    "# print(ret)\n",
    "# path = ret.x\n",
    "\n",
    "# # Visualize the solution path\n",
    "# if ret.feasible:\n",
    "#     for i in range(len(path)):\n",
    "#         C.addFrame(f\"path_{i}\").setPosition(path[i]).setShape(ry.ST.sphere, [0.02])  # Add a sphere at each path point\n",
    "#         C.view()\n",
    "# else:\n",
    "#     print(\"No valid path found.\")"
   ]
  },
  {
   "cell_type": "code",
   "execution_count": null,
   "id": "4dc25185",
   "metadata": {},
   "outputs": [],
   "source": [
    "# Create a new configuration\n",
    "C = ry.Config()\n",
    "\n",
    "C.addFile(\"/home/monke/Xrai/maze.g\")\n",
    "\n",
    "# Add the moving \"ego\" frame with constraints on its motion\n",
    "C.addFrame(\"ego\", \"floorwalls\") \\\n",
    "    .setJoint(ry.JT.transXYPhi, [-1., 1., -1., 1., -3., 3.]) \\\n",
    "    .setRelativePosition([0.2, 0.2, 0.4]) \\\n",
    "    .setShape(ry.ST.ssBox, size=[0.05, 0.3, 0.05, 0.01]) \\\n",
    "    .setColor([0, 1., 1.]) \\\n",
    "    .setContact(1)\n",
    "\n",
    "C.addFrame(\"goal1\") \\\n",
    "    .setPosition(C.getFrame('ego').getPosition()+[0, -3, 0]) \\\n",
    "    .setShape(ry.ST.ssBox, size=[0.05, 0.3, 0.05, 0.01]) \\\n",
    "    .setColor([1, 0, 0]) \\\n",
    "\n",
    "C.addFrame(\"goal2\") \\\n",
    "    .setPosition(C.getFrame('goal1').getPosition()+[4, 0, 0]) \\\n",
    "    .setShape(ry.ST.ssBox, size=[0.05, 0.3, 0.05, 0.01]) \\\n",
    "    .setColor([1, 0, 0]) \\\n",
    "\n",
    "# C.view()\n",
    "q0 = [0.2, 0.2, 0.4]\n",
    "qT = C.getFrame('goal1').getPosition()\n",
    "\n",
    "ry.params_clear()\n",
    "ry.params_add({'rrt/stepsize':.1, 'rrt/verbose': 0,'rrt/maxIters':30}) #verbose=3 makes it very slow, and displays result, and verbose=4 waits keypress..\n",
    "\n",
    "rrt = ry.PathFinder()\n",
    "rrt.setProblem(C, [q0], [qT])\n",
    "ret = rrt.star_solve()\n",
    "print(ret)\n",
    "path = ret.x\n",
    "\n",
    "# Visualize the solution path\n",
    "if ret.feasible:\n",
    "    for i in range(len(path)):\n",
    "        C.addFrame(f\"path_{i}\").setPosition(path[i]).setShape(ry.ST.sphere, [0.02])  # Add a sphere at each path point\n",
    "        C.view()\n",
    "else:\n",
    "    print(\"No valid path found.\")\n"
   ]
  }
 ],
 "metadata": {
  "kernelspec": {
   "display_name": "Python 3",
   "language": "python",
   "name": "python3"
  },
  "language_info": {
   "codemirror_mode": {
    "name": "ipython",
    "version": 3
   },
   "file_extension": ".py",
   "mimetype": "text/x-python",
   "name": "python",
   "nbconvert_exporter": "python",
   "pygments_lexer": "ipython3",
   "version": "3.8.10"
  }
 },
 "nbformat": 4,
 "nbformat_minor": 5
}
