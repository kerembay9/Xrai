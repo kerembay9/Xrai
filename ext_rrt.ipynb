{
 "cells": [
  {
   "cell_type": "markdown",
   "id": "48bcf763",
   "metadata": {},
   "source": [
    "# Extension - RRT: basic finding example\n",
    "* Path finding is using sample-based (RRT) methods rather than constrained optimization to find a collision free path\n",
    "* Path finding is much easier if a final robot pose is given. We here use IK (formulated as KOMO problem) to first compute a final configuration 'qT'. (Path optimization does this jointly with optimizing the path.)\n",
    "* Then we can pass the current state and qT to a bi-directional RRT to find a collision free path.\n",
    "* Note that BotOp (the interface to sim/real) is opened only after we computed the motion. We simply pass the motion to be played by the sim/real."
   ]
  },
  {
   "cell_type": "code",
   "execution_count": 1,
   "id": "8e07bf36",
   "metadata": {},
   "outputs": [],
   "source": [
    "import robotic as ry\n",
    "import time"
   ]
  },
  {
   "cell_type": "markdown",
   "id": "445a6a71",
   "metadata": {},
   "source": [
    "first a minimalistic example for testing:"
   ]
  },
  {
   "cell_type": "code",
   "execution_count": null,
   "id": "584507cd",
   "metadata": {},
   "outputs": [
    {
     "data": {
      "text/plain": [
       "0"
      ]
     },
     "execution_count": 2,
     "metadata": {},
     "output_type": "execute_result"
    },
    {
     "name": "stdout",
     "output_type": "stream",
     "text": [
      "-- WARNING:RenderData.cpp:glInitialize:105(-1) FreeType Error: Failed to load font 'ubuntu/Ubuntu-L.ttf' error code: 1 -> text rendering disabled\n"
     ]
    }
   ],
   "source": [
    "\n",
    "C = ry.Config()\n",
    "C.addFrame(\"base\") .setPosition([0,0,.5])\n",
    "\n",
    "C.addFrame(\"ego\", \"base\") \\\n",
    "    .setJoint(ry.JT.transXYPhi, [-1.,1.,-1.,1.,-3.,3.]) \\\n",
    "    .setRelativePosition([.2, .0, .0]) \\\n",
    "    .setShape(ry.ST.ssBox, size=[.05, .3, .05, .01]) \\\n",
    "    .setColor([0, 1., 1.]) \\\n",
    "    .setContact(1)\n",
    "\n",
    "C.addFrame(\"obstacle\") \\\n",
    "    .setPosition([.0, .0, .5]) \\\n",
    "    .setShape(ry.ST.ssBox, size=[.05, .3, .05, .01]) \\\n",
    "    .setColor([1, .5, 0]) \\\n",
    "    .setContact(1)\n",
    "\n",
    "C.view(False)"
   ]
  },
  {
   "cell_type": "code",
   "execution_count": 3,
   "id": "a384918d",
   "metadata": {},
   "outputs": [
    {
     "name": "stdout",
     "output_type": "stream",
     "text": [
      "Hello, World!\n"
     ]
    }
   ],
   "source": [
    "\n",
    "ry.params_clear()\n",
    "ry.params_add({'rrt/stepsize':.1, 'rrt/verbose': 3}) #verbose=3 makes it very slow, and displays result, and verbose=4 waits keypress..\n",
    "\n",
    "rrt = ry.PathFinder()\n",
    "rrt.helloworld()"
   ]
  }
 ],
 "metadata": {
  "kernelspec": {
   "display_name": "Python 3",
   "language": "python",
   "name": "python3"
  },
  "language_info": {
   "codemirror_mode": {
    "name": "ipython",
    "version": 3
   },
   "file_extension": ".py",
   "mimetype": "text/x-python",
   "name": "python",
   "nbconvert_exporter": "python",
   "pygments_lexer": "ipython3",
   "version": "3.8.10"
  }
 },
 "nbformat": 4,
 "nbformat_minor": 5
}
