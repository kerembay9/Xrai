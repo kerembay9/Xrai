{
 "cells": [
  {
   "cell_type": "code",
   "execution_count": 1,
   "id": "a68acc3a",
   "metadata": {},
   "outputs": [
    {
     "name": "stdout",
     "output_type": "stream",
     "text": [
      "3.7.5 (default, Feb 23 2021, 13:22:40) \n",
      "[GCC 8.4.0]\n"
     ]
    },
    {
     "ename": "ImportError",
     "evalue": "../../build/libry.cpython-37m-x86_64-linux-gnu.so: undefined symbol: _ZTIN3rai13ConfigurationE",
     "output_type": "error",
     "traceback": [
      "\u001b[0;31m---------------------------------------------------------------------------\u001b[0m",
      "\u001b[0;31mImportError\u001b[0m                               Traceback (most recent call last)",
      "\u001b[0;32m<ipython-input-1-3ebd23776572>\u001b[0m in \u001b[0;36m<module>\u001b[0;34m\u001b[0m\n\u001b[1;32m      3\u001b[0m \u001b[0mprint\u001b[0m\u001b[0;34m(\u001b[0m\u001b[0msys\u001b[0m\u001b[0;34m.\u001b[0m\u001b[0mversion\u001b[0m\u001b[0;34m)\u001b[0m\u001b[0;34m\u001b[0m\u001b[0;34m\u001b[0m\u001b[0m\n\u001b[1;32m      4\u001b[0m \u001b[0;32mimport\u001b[0m \u001b[0mnumpy\u001b[0m \u001b[0;32mas\u001b[0m \u001b[0mnp\u001b[0m\u001b[0;34m\u001b[0m\u001b[0;34m\u001b[0m\u001b[0m\n\u001b[0;32m----> 5\u001b[0;31m \u001b[0;32mimport\u001b[0m \u001b[0mlibry\u001b[0m \u001b[0;32mas\u001b[0m \u001b[0mry\u001b[0m\u001b[0;34m\u001b[0m\u001b[0;34m\u001b[0m\u001b[0m\n\u001b[0m\u001b[1;32m      6\u001b[0m \u001b[0;32mimport\u001b[0m \u001b[0mlibBotOp\u001b[0m\u001b[0;34m\u001b[0m\u001b[0;34m\u001b[0m\u001b[0m\n\u001b[1;32m      7\u001b[0m \u001b[0;32mimport\u001b[0m \u001b[0mtime\u001b[0m\u001b[0;34m\u001b[0m\u001b[0;34m\u001b[0m\u001b[0m\n",
      "\u001b[0;31mImportError\u001b[0m: ../../build/libry.cpython-37m-x86_64-linux-gnu.so: undefined symbol: _ZTIN3rai13ConfigurationE"
     ]
    }
   ],
   "source": [
    "import sys\n",
    "sys.path.append('../../build')\n",
    "print(sys.version)\n",
    "import numpy as np\n",
    "import libry as ry\n",
    "import libBotOp\n",
    "import time"
   ]
  },
  {
   "cell_type": "code",
   "execution_count": 2,
   "id": "53ba0ff2",
   "metadata": {},
   "outputs": [],
   "source": [
    "C = ry.Config()"
   ]
  },
  {
   "cell_type": "code",
   "execution_count": 3,
   "id": "475b07f6",
   "metadata": {},
   "outputs": [],
   "source": [
    "C.view()"
   ]
  },
  {
   "cell_type": "code",
   "execution_count": 4,
   "id": "b3cd3f61",
   "metadata": {},
   "outputs": [],
   "source": [
    "C.addFile(\"../../rai-robotModels/scenarios/pandaSingle.g\")"
   ]
  },
  {
   "cell_type": "code",
   "execution_count": 5,
   "id": "ae92d219",
   "metadata": {},
   "outputs": [],
   "source": [
    "bot = libBotOp.BotOp(C, False)"
   ]
  },
  {
   "cell_type": "code",
   "execution_count": 24,
   "id": "f1a09c68",
   "metadata": {},
   "outputs": [
    {
     "name": "stdout",
     "output_type": "stream",
     "text": [
      "[ 0.  -0.5  0.3 -2.   0.   2.   0. ]\n",
      "[ 0.  -0.4  0.3 -2.   0.   2.   0. ]\n"
     ]
    }
   ],
   "source": [
    "qHome = bot.get_q()\n",
    "q = bot.get_q()\n",
    "print(q)\n",
    "q[1] = q[1] - .1\n",
    "print(q)"
   ]
  },
  {
   "cell_type": "code",
   "execution_count": 26,
   "id": "b393a9cc",
   "metadata": {},
   "outputs": [],
   "source": [
    "bot.moveLeap(np.transpose(qHome), 2)\n",
    "\n",
    "for t in range (0,20):\n",
    "    bot.step(C, .1)\n",
    "    time.sleep(.1)"
   ]
  },
  {
   "cell_type": "code",
   "execution_count": 27,
   "id": "6755b8b4",
   "metadata": {},
   "outputs": [],
   "source": [
    "bot = 0\n"
   ]
  },
  {
   "cell_type": "code",
   "execution_count": null,
   "id": "fa060fdd",
   "metadata": {},
   "outputs": [],
   "source": []
  }
 ],
 "metadata": {
  "kernelspec": {
   "display_name": "Python 3",
   "language": "python",
   "name": "python3"
  },
  "language_info": {
   "codemirror_mode": {
    "name": "ipython",
    "version": 3
   },
   "file_extension": ".py",
   "mimetype": "text/x-python",
   "name": "python",
   "nbconvert_exporter": "python",
   "pygments_lexer": "ipython3",
   "version": "3.7.5"
  }
 },
 "nbformat": 4,
 "nbformat_minor": 5
}
