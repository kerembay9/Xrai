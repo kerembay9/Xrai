{
 "cells": [
  {
   "cell_type": "code",
   "execution_count": null,
   "metadata": {},
   "outputs": [],
   "source": [
    "import sys\n",
    "sys.path += ['../../lib', '../../build', '../../../build']\n",
    "import numpy as np\n",
    "import libry as ry"
   ]
  },
  {
   "cell_type": "code",
   "execution_count": null,
   "metadata": {},
   "outputs": [],
   "source": [
    "C = ry.Config()\n",
    "C.addFile(\"../KOMO/skeleton/model.g\")\n",
    "C.view()"
   ]
  },
  {
   "cell_type": "code",
   "execution_count": null,
   "metadata": {},
   "outputs": [],
   "source": [
    "S = [\n",
    "    [1.], ry.SY.topBoxGrasp, [\"gripper\", \"box2\"],\n",
    "    [1., 2.], ry.SY.stable, [\"gripper\", \"box2\"],\n",
    "    [1.9,2.1], ry.SY.downUp, [\"gripper\"],\n",
    "    [2.], ry.SY.poseEq, [\"box2\", \"target2\"],\n",
    "    [2., 2.2], ry.SY.stable, [\"table\", \"box2\"],\n",
    "]"
   ]
  },
  {
   "cell_type": "code",
   "execution_count": null,
   "metadata": {},
   "outputs": [],
   "source": [
    "skt = ry.Skeleton()\n",
    "skt.add(S)\n",
    "#komo = skt.getKomo_waypoints(C, 1e-1, 1e-1, 1.)\n",
    "komo = skt.getKomo_path(C, 20, 1., 1e-1, 1e-1, 1.)"
   ]
  },
  {
   "cell_type": "code",
   "execution_count": null,
   "metadata": {},
   "outputs": [],
   "source": [
    "print(komo.reportProblem())"
   ]
  },
  {
   "cell_type": "code",
   "execution_count": null,
   "metadata": {},
   "outputs": [],
   "source": [
    "#komo.verbose = 4;\n",
    "ry.NLP_Solver() .setProblem(komo.nlp()) .solve()\n",
    "#/  komo.checkGradients();\n",
    "\n",
    "komo.view(False, \"result\")"
   ]
  },
  {
   "cell_type": "code",
   "execution_count": null,
   "metadata": {},
   "outputs": [],
   "source": [
    "komo.view_play(False, .1)"
   ]
  },
  {
   "cell_type": "code",
   "execution_count": null,
   "metadata": {},
   "outputs": [],
   "source": [
    "komo.getReport()"
   ]
  },
  {
   "cell_type": "code",
   "execution_count": null,
   "metadata": {},
   "outputs": [],
   "source": []
  }
 ],
 "metadata": {
  "kernelspec": {
   "display_name": "Python 3",
   "language": "python",
   "name": "python3"
  },
  "language_info": {
   "codemirror_mode": {
    "name": "ipython",
    "version": 3
   },
   "file_extension": ".py",
   "mimetype": "text/x-python",
   "name": "python",
   "nbconvert_exporter": "python",
   "pygments_lexer": "ipython3",
   "version": "3.6.9"
  }
 },
 "nbformat": 4,
 "nbformat_minor": 4
}
